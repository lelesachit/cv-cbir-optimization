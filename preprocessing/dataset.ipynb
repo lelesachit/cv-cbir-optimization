{
 "cells": [
  {
   "cell_type": "code",
   "id": "initial_id",
   "metadata": {
    "collapsed": true,
    "ExecuteTime": {
     "end_time": "2024-04-29T10:29:26.450653Z",
     "start_time": "2024-04-29T10:29:22.708651Z"
    }
   },
   "source": [
    "import os\n",
    "import cv2\n",
    "from blender import blend_images\n",
    "\n",
    "# Define the input and output directories\n",
    "input_dir = \"/Users/shreyas/Desktop/6th_sem/CV_Lab/CV_Project/cv-cbir-optimization/data/cropped\"\n",
    "output_dir = \"/Users/shreyas/Desktop/6th_sem/CV_Lab/CV_Project/cv-cbir-optimization/data/preprocessed\"\n",
    "\n",
    "# Define the classes\n",
    "classes = [\"hoodies\", \"hoodies-female\", \"longsleeve\", \"shirt\", \"sweatshirt\", \"sweatshirt-female\"]\n",
    "\n",
    "# Iterate through each class directory\n",
    "for class_name in classes:\n",
    "    class_input_dir = os.path.join(input_dir, class_name)\n",
    "    class_output_dir = os.path.join(output_dir, class_name)\n",
    "    \n",
    "    # Create the output directory if it doesn't exist\n",
    "    if not os.path.exists(class_output_dir):\n",
    "        os.makedirs(class_output_dir)\n",
    "    \n",
    "    # Iterate through each image in the class directory\n",
    "    for filename in os.listdir(class_input_dir):\n",
    "        if filename.endswith(\".jpg\") or filename.endswith(\".png\"):\n",
    "            # Read the image\n",
    "            image_path = os.path.join(class_input_dir, filename)\n",
    "            original_image = cv2.imread(image_path)\n",
    "            \n",
    "            # Preprocess and blend the image\n",
    "            blended_image = blend_images(original_image)\n",
    "            \n",
    "            # Save the preprocessed image\n",
    "            output_path = os.path.join(class_output_dir, filename)\n",
    "            cv2.imwrite(output_path, blended_image)\n",
    "\n",
    "print(\"Preprocessing completed!\")"
   ],
   "outputs": [
    {
     "name": "stdout",
     "output_type": "stream",
     "text": [
      "Preprocessing completed!\n"
     ]
    }
   ],
   "execution_count": 2
  }
 ],
 "metadata": {
  "kernelspec": {
   "display_name": "Python 3",
   "language": "python",
   "name": "python3"
  },
  "language_info": {
   "codemirror_mode": {
    "name": "ipython",
    "version": 2
   },
   "file_extension": ".py",
   "mimetype": "text/x-python",
   "name": "python",
   "nbconvert_exporter": "python",
   "pygments_lexer": "ipython2",
   "version": "2.7.6"
  }
 },
 "nbformat": 4,
 "nbformat_minor": 5
}
