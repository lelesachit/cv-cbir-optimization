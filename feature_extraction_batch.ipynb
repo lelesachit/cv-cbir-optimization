{
 "cells": [
  {
   "cell_type": "code",
   "execution_count": 2,
   "metadata": {},
   "outputs": [
    {
     "ename": "AttributeError",
     "evalue": "'list' object has no attribute 'tolist'",
     "output_type": "error",
     "traceback": [
      "\u001b[1;31m---------------------------------------------------------------------------\u001b[0m",
      "\u001b[1;31mAttributeError\u001b[0m                            Traceback (most recent call last)",
      "Input \u001b[1;32mIn [2]\u001b[0m, in \u001b[0;36m<cell line: 10>\u001b[1;34m()\u001b[0m\n\u001b[0;32m     23\u001b[0m             features \u001b[38;5;241m=\u001b[39m gabor_extractor(image)\n\u001b[0;32m     26\u001b[0m             \u001b[38;5;66;03m# Write image name and features to CSV\u001b[39;00m\n\u001b[1;32m---> 27\u001b[0m             writer\u001b[38;5;241m.\u001b[39mwriterow([filename, \u001b[43mfeatures\u001b[49m\u001b[38;5;241;43m.\u001b[39;49m\u001b[43mtolist\u001b[49m()])\n\u001b[0;32m     29\u001b[0m \u001b[38;5;28mprint\u001b[39m(\u001b[38;5;124m\"\u001b[39m\u001b[38;5;124mFeatures extracted and saved to features.csv\u001b[39m\u001b[38;5;124m\"\u001b[39m)\n",
      "\u001b[1;31mAttributeError\u001b[0m: 'list' object has no attribute 'tolist'"
     ]
    }
   ],
   "source": [
    "import os\n",
    "import cv2\n",
    "import csv\n",
    "from extractors.gabor import gabor_extractor  # Assuming your gabor extractor module\n",
    "\n",
    "# Define your subdirectory path (replace with your actual path)\n",
    "subdirectory_path = r\"C:\\Users\\Sachit\\Documents\\Projects\\cv_cbir_opti\\output_data\\hoodies\"\n",
    "\n",
    "# Open a CSV file for writing features\n",
    "with open(\"gabor_features.csv\", \"w\", newline=\"\") as csvfile:\n",
    "    writer = csv.writer(csvfile)\n",
    "    writer.writerow([\"Image Name\", \"Gabor Features\"])  # Header row\n",
    "\n",
    "    # Loop through all image files in the subdirectory\n",
    "    for filename in os.listdir(subdirectory_path):\n",
    "        if filename.lower().endswith((\".jpg\", \".jpeg\", \".png\")):  # Check for common image formats\n",
    "            image_path = os.path.join(subdirectory_path, filename)\n",
    "\n",
    "            # Load image\n",
    "            image = cv2.imread(image_path)\n",
    "\n",
    "            # Extract Gabor features\n",
    "            features = gabor_extractor(image)\n",
    "\n",
    "\n",
    "            # Write image name and features to CSV\n",
    "            writer.writerow([filename, features])\n",
    "\n",
    "print(\"Features extracted and saved to features.csv\")\n"
   ]
  }
 ],
 "metadata": {
  "kernelspec": {
   "display_name": "base",
   "language": "python",
   "name": "python3"
  },
  "language_info": {
   "codemirror_mode": {
    "name": "ipython",
    "version": 3
   },
   "file_extension": ".py",
   "mimetype": "text/x-python",
   "name": "python",
   "nbconvert_exporter": "python",
   "pygments_lexer": "ipython3",
   "version": "3.9.12"
  }
 },
 "nbformat": 4,
 "nbformat_minor": 2
}
