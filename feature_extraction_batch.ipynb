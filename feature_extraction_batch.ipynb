{
 "cells": [
  {
   "cell_type": "code",
   "execution_count": 5,
   "metadata": {},
   "outputs": [
    {
     "name": "stdout",
     "output_type": "stream",
     "text": [
      "Features extracted and saved to features.csv\n"
     ]
    }
   ],
   "source": [
    "import os\n",
    "import cv2\n",
    "import csv\n",
    "from extractors.gabor import gabor_extractor  # Assuming your gabor extractor module\n",
    "\n",
    "# Define your subdirectory path (replace with your actual path)\n",
    "subdirectory_path = r\"C:\\Users\\Sachit\\Documents\\Projects\\cv_cbir_opti\\output_data\\hoodies\"\n",
    "\n",
    "# Open a CSV file for writing features\n",
    "with open(\"gabor_features.csv\", \"w\", newline=\"\") as csvfile:\n",
    "    writer = csv.writer(csvfile)\n",
    "    writer.writerow([\"Image Name\"] + [f\"Gabor Feature {i}\" for i in range(1, 49)])  # Header row\n",
    "\n",
    "    # Loop through all image files in the subdirectory\n",
    "    for filename in os.listdir(subdirectory_path):\n",
    "        if filename.lower().endswith((\".jpg\", \".jpeg\", \".png\")):  # Check for common image formats\n",
    "            image_path = os.path.join(subdirectory_path, filename)\n",
    "\n",
    "            # Load image\n",
    "            image = cv2.imread(image_path)\n",
    "\n",
    "            # Extract Gabor features\n",
    "            features = gabor_extractor(image)\n",
    "\n",
    "            # Write image name and features to CSV\n",
    "            writer.writerow([filename] + features)\n",
    "\n",
    "print(\"Features extracted and saved to features.csv\")"
   ]
  },
  {
   "cell_type": "code",
   "execution_count": null,
   "metadata": {},
   "outputs": [],
   "source": [
    "# Open a CSV file for writing features\n",
    "with open(\"gabor_features.csv\", \"w\", newline=\"\") as csvfile:\n",
    "    writer = csv.writer(csvfile)\n",
    "    writer.writerow([\"Image Name\", \"Gabor Features\"])  # Header row\n",
    "\n",
    "    # Loop through all image files in the subdirectory\n",
    "    for filename in os.listdir(subdirectory_path):\n",
    "        if filename.lower().endswith((\".jpg\", \".jpeg\", \".png\")):  # Check for common image formats\n",
    "            image_path = os.path.join(subdirectory_path, filename)\n",
    "\n",
    "            # Load image\n",
    "            image = cv2.imread(image_path)\n",
    "\n",
    "            # Extract Gabor features\n",
    "            features = gabor_extractor(image)\n",
    "\n",
    "            # Write image name and features to CSV\n",
    "            writer.writerow([filename, features])\n",
    "\n",
    "print(\"Features extracted and saved to features.csv\")"
   ]
  }
 ],
 "metadata": {
  "kernelspec": {
   "display_name": "base",
   "language": "python",
   "name": "python3"
  },
  "language_info": {
   "codemirror_mode": {
    "name": "ipython",
    "version": 3
   },
   "file_extension": ".py",
   "mimetype": "text/x-python",
   "name": "python",
   "nbconvert_exporter": "python",
   "pygments_lexer": "ipython3",
   "version": "3.9.12"
  }
 },
 "nbformat": 4,
 "nbformat_minor": 2
}
